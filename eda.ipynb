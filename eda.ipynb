{
 "cells": [
  {
   "cell_type": "code",
   "execution_count": 1,
   "id": "initial_id",
   "metadata": {
    "collapsed": true,
    "ExecuteTime": {
     "end_time": "2024-06-18T02:04:13.106905Z",
     "start_time": "2024-06-18T02:04:11.830330Z"
    }
   },
   "outputs": [],
   "source": [
    "import matplotlib.pyplot as plt\n",
    "from data.data_io import *\n",
    "import numpy as np"
   ]
  },
  {
   "cell_type": "code",
   "outputs": [],
   "source": [
    "df = read_csv('resources/train.csv')"
   ],
   "metadata": {
    "collapsed": false,
    "ExecuteTime": {
     "end_time": "2024-06-18T02:04:13.176711Z",
     "start_time": "2024-06-18T02:04:13.107871Z"
    }
   },
   "id": "b39542f78e2d4a53",
   "execution_count": 2
  },
  {
   "cell_type": "markdown",
   "source": [
    "Describe data frame"
   ],
   "metadata": {
    "collapsed": false
   },
   "id": "20181e4dcf3733de"
  },
  {
   "cell_type": "code",
   "outputs": [
    {
     "data": {
      "text/plain": "Index(['id', 'brand', 'model', 'model_year', 'milage', 'fuel_type', 'engine',\n       'transmission', 'ext_col', 'int_col', 'accident', 'clean_title',\n       'price'],\n      dtype='object')"
     },
     "execution_count": 3,
     "metadata": {},
     "output_type": "execute_result"
    }
   ],
   "source": [
    "df.columns"
   ],
   "metadata": {
    "collapsed": false,
    "ExecuteTime": {
     "end_time": "2024-06-18T02:04:13.181575Z",
     "start_time": "2024-06-18T02:04:13.178479Z"
    }
   },
   "id": "9ef8131c134bcb10",
   "execution_count": 3
  },
  {
   "cell_type": "code",
   "outputs": [
    {
     "data": {
      "text/plain": "id               int64\nbrand           object\nmodel           object\nmodel_year       int64\nmilage           int64\nfuel_type       object\nengine          object\ntransmission    object\next_col         object\nint_col         object\naccident        object\nclean_title     object\nprice            int64\ndtype: object"
     },
     "execution_count": 4,
     "metadata": {},
     "output_type": "execute_result"
    }
   ],
   "source": [
    "df.dtypes"
   ],
   "metadata": {
    "collapsed": false,
    "ExecuteTime": {
     "end_time": "2024-06-18T02:04:13.194227Z",
     "start_time": "2024-06-18T02:04:13.182771Z"
    }
   },
   "id": "d9214c296bbe16ab",
   "execution_count": 4
  },
  {
   "cell_type": "code",
   "outputs": [
    {
     "data": {
      "text/plain": "   id    brand          model  model_year  milage fuel_type  \\\n0   0     Ford   F-150 Lariat        2018   74349  Gasoline   \n1   1      BMW          335 i        2007   80000  Gasoline   \n2   2   Jaguar      XF Luxury        2009   91491  Gasoline   \n3   3      BMW   X7 xDrive40i        2022    2437    Hybrid   \n4   4  Pontiac  Firebird Base        2001  111000  Gasoline   \n\n                                              engine  \\\n0      375.0HP 3.5L V6 Cylinder Engine Gasoline Fuel   \n1  300.0HP 3.0L Straight 6 Cylinder Engine Gasoli...   \n2       300.0HP 4.2L 8 Cylinder Engine Gasoline Fuel   \n3  335.0HP 3.0L Straight 6 Cylinder Engine Gasoli...   \n4      200.0HP 3.8L V6 Cylinder Engine Gasoline Fuel   \n\n                     transmission ext_col int_col       accident clean_title  \\\n0                    10-Speed A/T    Blue    Gray  None reported         Yes   \n1                     6-Speed M/T   Black   Black  None reported         Yes   \n2                     6-Speed A/T  Purple   Beige  None reported         Yes   \n3  Transmission w/Dual Shift Mode    Gray   Brown  None reported         Yes   \n4                             A/T   White   Black  None reported         Yes   \n\n   price  \n0  11000  \n1   8250  \n2  15000  \n3  63500  \n4   7850  ",
      "text/html": "<div>\n<style scoped>\n    .dataframe tbody tr th:only-of-type {\n        vertical-align: middle;\n    }\n\n    .dataframe tbody tr th {\n        vertical-align: top;\n    }\n\n    .dataframe thead th {\n        text-align: right;\n    }\n</style>\n<table border=\"1\" class=\"dataframe\">\n  <thead>\n    <tr style=\"text-align: right;\">\n      <th></th>\n      <th>id</th>\n      <th>brand</th>\n      <th>model</th>\n      <th>model_year</th>\n      <th>milage</th>\n      <th>fuel_type</th>\n      <th>engine</th>\n      <th>transmission</th>\n      <th>ext_col</th>\n      <th>int_col</th>\n      <th>accident</th>\n      <th>clean_title</th>\n      <th>price</th>\n    </tr>\n  </thead>\n  <tbody>\n    <tr>\n      <th>0</th>\n      <td>0</td>\n      <td>Ford</td>\n      <td>F-150 Lariat</td>\n      <td>2018</td>\n      <td>74349</td>\n      <td>Gasoline</td>\n      <td>375.0HP 3.5L V6 Cylinder Engine Gasoline Fuel</td>\n      <td>10-Speed A/T</td>\n      <td>Blue</td>\n      <td>Gray</td>\n      <td>None reported</td>\n      <td>Yes</td>\n      <td>11000</td>\n    </tr>\n    <tr>\n      <th>1</th>\n      <td>1</td>\n      <td>BMW</td>\n      <td>335 i</td>\n      <td>2007</td>\n      <td>80000</td>\n      <td>Gasoline</td>\n      <td>300.0HP 3.0L Straight 6 Cylinder Engine Gasoli...</td>\n      <td>6-Speed M/T</td>\n      <td>Black</td>\n      <td>Black</td>\n      <td>None reported</td>\n      <td>Yes</td>\n      <td>8250</td>\n    </tr>\n    <tr>\n      <th>2</th>\n      <td>2</td>\n      <td>Jaguar</td>\n      <td>XF Luxury</td>\n      <td>2009</td>\n      <td>91491</td>\n      <td>Gasoline</td>\n      <td>300.0HP 4.2L 8 Cylinder Engine Gasoline Fuel</td>\n      <td>6-Speed A/T</td>\n      <td>Purple</td>\n      <td>Beige</td>\n      <td>None reported</td>\n      <td>Yes</td>\n      <td>15000</td>\n    </tr>\n    <tr>\n      <th>3</th>\n      <td>3</td>\n      <td>BMW</td>\n      <td>X7 xDrive40i</td>\n      <td>2022</td>\n      <td>2437</td>\n      <td>Hybrid</td>\n      <td>335.0HP 3.0L Straight 6 Cylinder Engine Gasoli...</td>\n      <td>Transmission w/Dual Shift Mode</td>\n      <td>Gray</td>\n      <td>Brown</td>\n      <td>None reported</td>\n      <td>Yes</td>\n      <td>63500</td>\n    </tr>\n    <tr>\n      <th>4</th>\n      <td>4</td>\n      <td>Pontiac</td>\n      <td>Firebird Base</td>\n      <td>2001</td>\n      <td>111000</td>\n      <td>Gasoline</td>\n      <td>200.0HP 3.8L V6 Cylinder Engine Gasoline Fuel</td>\n      <td>A/T</td>\n      <td>White</td>\n      <td>Black</td>\n      <td>None reported</td>\n      <td>Yes</td>\n      <td>7850</td>\n    </tr>\n  </tbody>\n</table>\n</div>"
     },
     "execution_count": 5,
     "metadata": {},
     "output_type": "execute_result"
    }
   ],
   "source": [
    "df.head()"
   ],
   "metadata": {
    "collapsed": false,
    "ExecuteTime": {
     "end_time": "2024-06-18T02:04:13.194900Z",
     "start_time": "2024-06-18T02:04:13.185903Z"
    }
   },
   "id": "c3b81674eaf75a30",
   "execution_count": 5
  },
  {
   "cell_type": "code",
   "outputs": [
    {
     "data": {
      "text/plain": "                 id    model_year         milage         price\ncount  54273.000000  54273.000000   54273.000000  5.427300e+04\nmean   27136.000000   2015.091979   72746.175667  3.921844e+04\nstd    15667.409917      5.588909   50469.490448  7.282634e+04\nmin        0.000000   1974.000000     100.000000  2.000000e+03\n25%    13568.000000   2012.000000   32268.000000  1.550000e+04\n50%    27136.000000   2016.000000   66107.000000  2.800000e+04\n75%    40704.000000   2019.000000  102000.000000  4.500000e+04\nmax    54272.000000   2024.000000  405000.000000  2.954083e+06",
      "text/html": "<div>\n<style scoped>\n    .dataframe tbody tr th:only-of-type {\n        vertical-align: middle;\n    }\n\n    .dataframe tbody tr th {\n        vertical-align: top;\n    }\n\n    .dataframe thead th {\n        text-align: right;\n    }\n</style>\n<table border=\"1\" class=\"dataframe\">\n  <thead>\n    <tr style=\"text-align: right;\">\n      <th></th>\n      <th>id</th>\n      <th>model_year</th>\n      <th>milage</th>\n      <th>price</th>\n    </tr>\n  </thead>\n  <tbody>\n    <tr>\n      <th>count</th>\n      <td>54273.000000</td>\n      <td>54273.000000</td>\n      <td>54273.000000</td>\n      <td>5.427300e+04</td>\n    </tr>\n    <tr>\n      <th>mean</th>\n      <td>27136.000000</td>\n      <td>2015.091979</td>\n      <td>72746.175667</td>\n      <td>3.921844e+04</td>\n    </tr>\n    <tr>\n      <th>std</th>\n      <td>15667.409917</td>\n      <td>5.588909</td>\n      <td>50469.490448</td>\n      <td>7.282634e+04</td>\n    </tr>\n    <tr>\n      <th>min</th>\n      <td>0.000000</td>\n      <td>1974.000000</td>\n      <td>100.000000</td>\n      <td>2.000000e+03</td>\n    </tr>\n    <tr>\n      <th>25%</th>\n      <td>13568.000000</td>\n      <td>2012.000000</td>\n      <td>32268.000000</td>\n      <td>1.550000e+04</td>\n    </tr>\n    <tr>\n      <th>50%</th>\n      <td>27136.000000</td>\n      <td>2016.000000</td>\n      <td>66107.000000</td>\n      <td>2.800000e+04</td>\n    </tr>\n    <tr>\n      <th>75%</th>\n      <td>40704.000000</td>\n      <td>2019.000000</td>\n      <td>102000.000000</td>\n      <td>4.500000e+04</td>\n    </tr>\n    <tr>\n      <th>max</th>\n      <td>54272.000000</td>\n      <td>2024.000000</td>\n      <td>405000.000000</td>\n      <td>2.954083e+06</td>\n    </tr>\n  </tbody>\n</table>\n</div>"
     },
     "execution_count": 6,
     "metadata": {},
     "output_type": "execute_result"
    }
   ],
   "source": [
    "df.describe()"
   ],
   "metadata": {
    "collapsed": false,
    "ExecuteTime": {
     "end_time": "2024-06-18T02:04:13.211246Z",
     "start_time": "2024-06-18T02:04:13.191721Z"
    }
   },
   "id": "290bda9c0d970e33",
   "execution_count": 6
  },
  {
   "cell_type": "markdown",
   "source": [
    "Preliminary"
   ],
   "metadata": {
    "collapsed": false
   },
   "id": "68e48e625efccb35"
  },
  {
   "cell_type": "code",
   "outputs": [
    {
     "data": {
      "text/plain": "0"
     },
     "execution_count": 7,
     "metadata": {},
     "output_type": "execute_result"
    }
   ],
   "source": [
    "df.duplicated().sum()"
   ],
   "metadata": {
    "collapsed": false,
    "ExecuteTime": {
     "end_time": "2024-06-18T02:04:13.247975Z",
     "start_time": "2024-06-18T02:04:13.202761Z"
    }
   },
   "id": "465997c4f96384f1",
   "execution_count": 7
  },
  {
   "cell_type": "code",
   "outputs": [
    {
     "data": {
      "text/plain": "id              54273\nbrand              53\nmodel            1827\nmodel_year         34\nmilage           3212\nfuel_type           7\nengine           1061\ntransmission       46\next_col           260\nint_col           124\naccident            2\nclean_title         1\nprice            1481\ndtype: int64"
     },
     "execution_count": 8,
     "metadata": {},
     "output_type": "execute_result"
    }
   ],
   "source": [
    "df.nunique()"
   ],
   "metadata": {
    "collapsed": false,
    "ExecuteTime": {
     "end_time": "2024-06-18T02:04:13.248533Z",
     "start_time": "2024-06-18T02:04:13.225576Z"
    }
   },
   "id": "50809724ff5ccbbe",
   "execution_count": 8
  },
  {
   "cell_type": "code",
   "outputs": [
    {
     "data": {
      "text/plain": "id              0\nbrand           0\nmodel           0\nmodel_year      0\nmilage          0\nfuel_type       0\nengine          0\ntransmission    0\next_col         0\nint_col         0\naccident        0\nclean_title     0\nprice           0\ndtype: int64"
     },
     "execution_count": 9,
     "metadata": {},
     "output_type": "execute_result"
    }
   ],
   "source": [
    "df.isna().sum()"
   ],
   "metadata": {
    "collapsed": false,
    "ExecuteTime": {
     "end_time": "2024-06-18T02:04:13.361448Z",
     "start_time": "2024-06-18T02:04:13.245157Z"
    }
   },
   "id": "eb1b11d3751ce62",
   "execution_count": 9
  },
  {
   "cell_type": "code",
   "outputs": [
    {
     "name": "stdout",
     "output_type": "stream",
     "text": [
      "Category in brand is : ['Ford' 'BMW' 'Jaguar' 'Pontiac' 'Acura' 'Audi' 'GMC' 'Maserati'\n",
      " 'Chevrolet' 'Porsche' 'Mercedes-Benz' 'Tesla' 'Lexus' 'Kia' 'Lincoln'\n",
      " 'Dodge' 'Volkswagen' 'Land' 'Cadillac' 'Mazda' 'RAM' 'Subaru' 'Hyundai'\n",
      " 'MINI' 'Jeep' 'Honda' 'Hummer' 'Nissan' 'Toyota' 'Volvo' 'Genesis'\n",
      " 'Mitsubishi' 'Buick' 'INFINITI' 'McLaren' 'Scion' 'Lamborghini' 'Bentley'\n",
      " 'Suzuki' 'Ferrari' 'Alfa' 'Rolls-Royce' 'Chrysler' 'Aston' 'Rivian'\n",
      " 'Lotus' 'Saturn' 'Lucid' 'Mercury' 'Maybach' 'FIAT' 'Plymouth' 'Bugatti']\n",
      "Category in model is : ['F-150 Lariat' '335 i' 'XF Luxury' ... 'Q4 e-tron Sportback Premium'\n",
      " 'Countryman Cooper' 'S-10 LS']\n",
      "Category in fuel_type is : ['Gasoline' 'Hybrid' 'E85 Flex Fuel' 'Diesel' '–' 'Plug-In Hybrid'\n",
      " 'not supported']\n",
      "Category in engine is : ['375.0HP 3.5L V6 Cylinder Engine Gasoline Fuel'\n",
      " '300.0HP 3.0L Straight 6 Cylinder Engine Gasoline Fuel'\n",
      " '300.0HP 4.2L 8 Cylinder Engine Gasoline Fuel' ... '3.0L'\n",
      " '3.0 Liter GTDI' '120.0HP 2.2L 4 Cylinder Engine Flex Fuel Capability']\n",
      "Category in transmission is : ['10-Speed A/T' '6-Speed M/T' '6-Speed A/T'\n",
      " 'Transmission w/Dual Shift Mode' 'A/T' '5-Speed M/T' '7-Speed A/T'\n",
      " '5-Speed A/T' '8-Speed A/T' 'Transmission Overdrive Switch'\n",
      " '9-Speed Automatic' '7-Speed M/T' '10-Speed Automatic'\n",
      " '6-Speed Automatic' 'M/T' '5-Speed Automatic' 'CVT Transmission'\n",
      " '9-Speed A/T' '8-Speed Automatic' '4-Speed A/T' 'Automatic' '1-Speed A/T'\n",
      " '8-Speed Automatic with Auto-Shift' '7-Speed DCT Automatic'\n",
      " 'Automatic CVT' '7-Speed Automatic' '7-Speed Automatic with Auto-Shift'\n",
      " '4-Speed Automatic' '6-Speed Automatic with Auto-Shift' '6-Speed Manual'\n",
      " '7-Speed Manual' '6-Speed Electronically Controlled Automatic with O'\n",
      " '1-Speed Automatic' '10-Speed Automatic with Overdrive' '8-Speed Manual'\n",
      " '2-Speed A/T' 'CVT-F' '–' 'F' '9-Speed Automatic with Auto-Shift'\n",
      " '7-Speed' 'Variable' 'SCHEDULED FOR OR IN PRODUCTION' '6-Speed'\n",
      " '6 Speed At/Mt' '6 Speed Mt']\n",
      "Category in ext_col is : ['Blue' 'Black' 'Purple' 'Gray' 'White' 'Red' 'Silver' 'Summit White'\n",
      " 'Platinum Quartz Metallic' 'Green' 'Orange' 'Lunar Rock'\n",
      " 'Red Quartz Tintcoat' 'Beige' 'Gold' 'Jet Black Mica'\n",
      " 'Delmonico Red Pearlcoat' 'Brown' 'Rich Garnet Metallic'\n",
      " 'Stellar Black Metallic' 'Yellow' 'Deep Black Pearl Effect' 'Metallic'\n",
      " 'Ice Silver Metallic' 'Agate Black Metallic' 'Rosso Mars Metallic'\n",
      " 'White Clearcoat' 'Santorini Black Metallic' 'DB Black Clearcoat'\n",
      " 'Snowflake White Pearl' 'Glacial White Pearl' 'Maximum Steel Metallic'\n",
      " 'Blue Caelum' 'Dark Matter Metallic' '–' 'Oxford White'\n",
      " 'Cobra Beige Metallic' 'Velvet Red Pearlcoat' 'Python Green'\n",
      " 'Obsidian Black Metallic' 'Beluga Black' 'Blue Reflex Mica'\n",
      " 'Sparkling Silver' 'Black Clearcoat' 'Soul Red Crystal Metallic'\n",
      " 'Bright White Clearcoat' 'Shimmering Silver' 'Midnight Black Metallic'\n",
      " 'Cajun Red Tintcoat' 'Cirrus Silver Metallic' 'Blu'\n",
      " 'Burnished Bronze Metallic' 'Hellayella Clearcoat' 'Diamond Black'\n",
      " 'White Diamond Tri-Coat' 'Nebula Gray Pearl' 'Bronze Dune Metallic'\n",
      " 'Polymetal Gray Metallic' 'Nightfall Gray Metallic' 'Fuji White'\n",
      " 'Shadow Gray Metallic' 'Dark Moon Blue Metallic' 'Dark Sapphire'\n",
      " 'Firecracker Red Clearcoat' 'Black Raven' 'White Knuckle Clearcoat'\n",
      " 'Siren Red Tintcoat' 'Designo Magno Matte' 'Atomic Silver'\n",
      " 'Billet Silver Metallic Clearcoat' 'Ember Pearlcoat' 'Magnetic Black'\n",
      " 'Pacific Blue Metallic' 'Midnight Blue Metallic' 'Alta White'\n",
      " 'Eiger Grey' 'Diamond White' 'Onyx' 'Hyper Red' 'Ebony Twilight Metallic'\n",
      " 'Alpine White' 'Sonic Silver Metallic' 'Dark Ash Metallic'\n",
      " 'Volcano Grey Metallic' 'Patriot Blue Pearlcoat' 'Onyx Black'\n",
      " 'Titanium Silver' 'Granite Crystal Clearcoat Metallic' 'Nero Noctis'\n",
      " 'Silver Zynith' 'Black Cherry' 'Iconic Silver Metallic' 'Nero Daytona'\n",
      " 'Daytona Gray Pearl Effect' 'Dark Moss' 'Deep Crystal Blue Mica'\n",
      " 'China Blue' 'Magnetic Metallic' 'Midnight Black' 'Vega Blue'\n",
      " 'Sandstone Metallic' 'Machine Gray Metallic' 'C / C'\n",
      " 'Platinum Gray Metallic' 'Silver Ice Metallic' 'Carrara White Metallic'\n",
      " 'Black Sapphire Metallic' 'Go Mango!' 'White Frost Tri-Coat'\n",
      " 'Lizard Green' 'Santorin Black' 'Twilight Black' 'Gecko Pearlcoat'\n",
      " 'Satin Steel Metallic' 'Imperial Blue Metallic' 'Nautical Blue Pearl'\n",
      " 'Stone Gray Metallic' 'Quartzite Grey Metallic' 'Majestic Black Pearl'\n",
      " 'Shadow Black' 'Crimson Red Tintcoat' 'Silver Flare Metallic' 'Vik Black'\n",
      " 'Lunar Silver Metallic' 'Maroon' 'Redline Red' 'Iridescent Pearl Tricoat'\n",
      " 'Brilliant Silver Metallic' 'Lunar Blue Metallic' 'Matte White' 'Tan'\n",
      " 'Stormy Sea' 'Twilight Blue Metallic' 'Ibis White'\n",
      " 'Kodiak Brown Metallic' 'Crystal Black Silica' 'Sting Gray Clearcoat'\n",
      " 'Pristine White' 'Pearl White' 'Antimatter Blue Metallic'\n",
      " 'Tango Red Metallic' 'Crystal Black Pearl' 'Rift Metallic'\n",
      " 'Glacier White Metallic' 'Quartz White' 'Black Obsidian'\n",
      " 'Brilliant Black' 'Ruby Red Metallic Tinted Clearcoat'\n",
      " 'Tungsten Metallic' 'Magnetite Black Metallic' 'Jupiter Red' 'Glacier'\n",
      " 'Santorini Black' 'Navarre Blue'\n",
      " 'Phantom Black Pearl Effect / Black Roof' 'Isle of Man Green Metallic'\n",
      " 'Snowflake White Pearl Metallic' 'Brands Hatch Gray Metallic'\n",
      " 'Volcanic Orange' 'Liquid Platinum' 'Bayside Blue'\n",
      " 'Rapid Red Metallic Tinted Clearcoat' 'Majestic Plum Metallic'\n",
      " 'White Platinum Tri-Coat Metallic' 'Mosaic Black Metallic' 'Chalk'\n",
      " 'Black Noir Pearl' 'Nightfall Mica' 'Dark Gray Metallic'\n",
      " 'Mythos Black Metallic' 'Blueprint' 'Quicksilver Metallic' 'Frozen White'\n",
      " 'Lunare White Metallic' 'Verde' 'Dark Graphite Metallic' 'Mythos Black'\n",
      " 'Ebony Black' 'Ultra Black' 'Ingot Silver Metallic'\n",
      " 'Glacier Silver Metallic' 'Gun Metallic' 'Wind Chill Pearl'\n",
      " 'Anodized Blue Metallic' 'designo Diamond White' 'Tempest' 'Caviar'\n",
      " 'Phytonic Blue Metallic' 'Moonlight Cloud'\n",
      " 'Daytona Gray Pearl Effect w/ Black Roof' 'Bianco Isis'\n",
      " 'Carbonized Gray Metallic' 'Deep Blue Metallic' 'Ametrin Metallic'\n",
      " 'Super Black' 'Rosso Corsa' 'Blue Metallic' 'Iridium Metallic'\n",
      " 'Dark Slate Metallic' 'Manhattan Noir Metallic' 'Alfa White'\n",
      " 'Baltic Gray' 'Northsky Blue Metallic' 'Super White'\n",
      " 'Carbon Black Metallic' 'Horizon Blue' 'Jungle Green'\n",
      " 'Cayenne Red Tintcoat' 'Pink' 'Daytona Gray' 'Gentian Blue Metallic'\n",
      " 'Sangria Red' 'Kemora Gray Metallic' 'Magnetite Gray Metallic'\n",
      " 'Octane Red Pearlcoat' 'Custom Color' 'Ultra White' 'Pacific Blue'\n",
      " 'Ruby Flare Pearl' 'Caspian Blue' 'Silver Radiance'\n",
      " 'Carpathian Grey Premium Metallic' 'Ice' 'Balloon White'\n",
      " 'Shoreline Blue Pearl' 'Firenze Red Metallic' 'Remington Red Metallic'\n",
      " 'Orca Black Metallic' 'Radiant Red Metallic II' 'Mineral White'\n",
      " 'Glacier White' 'Snow White Pearl' 'Iridium Silver Metallic'\n",
      " 'Carpathian Grey' 'Mountain Air Metallic' 'Selenite Gray Metallic'\n",
      " 'Graphite Grey Metallic' 'Selenite Grey Metallic' 'Kinetic Blue'\n",
      " 'Wolf Gray' 'Star White' 'Emin White' 'Indus Silver'\n",
      " 'Matador Red Metallic' 'Portofino Gray' 'Black Forest Green'\n",
      " 'Dazzling White' 'Flame Red Clearcoat' 'Glacier Blue Metallic'\n",
      " 'Arctic White' 'Rosso' 'Silver Mist' 'Bianco Icarus Metallic'\n",
      " 'Firenze Red' 'Ironman Silver' 'Red Obsession' 'Magnetic Gray Metallic'\n",
      " 'Garnet Red Metallic' 'Vulcano Black Metallic' 'Magnetic Gray Clearcoat']\n",
      "Category in int_col is : ['Gray' 'Black' 'Beige' 'Brown' 'Silver' 'Jet Black' 'Mesa' 'White' '–'\n",
      " 'Red' 'Blue' 'Medium Stone' 'Ash' 'Ebony' 'Shara Beige' 'Tan'\n",
      " 'Titan Black / Quarzit' 'Global Black' 'Orange' 'Saddle Brown' 'Nero Ade'\n",
      " 'Beluga' 'Light Slate' 'Gold' 'Black Onyx' 'Nougat Brown' 'Camel'\n",
      " 'Hotspur Hide' 'Charcoal' 'Satin Black' 'Deep Chestnut'\n",
      " 'Diesel Gray / Black' 'White / Brown' 'AMG Black' 'Parchment' 'Shale'\n",
      " 'Canberra Beige' 'Sahara Tan' 'Ebony / Pimento' 'Rhapsody Blue'\n",
      " 'Medium Dark Slate' 'Rioja Red' 'Black / Express Red' 'Deep Garnet'\n",
      " 'Portland' 'Sandstone' 'Dark Ash' 'Deep Cypress' 'Black / Stone Grey'\n",
      " 'Chestnut' 'Navy Pier' 'Green' 'Giallo Taurus / Nero Ade'\n",
      " 'Mistral Gray / Raven' 'Dark Gray' 'Amber' 'Charles Blue' 'Hotspur'\n",
      " 'Medium Earth Gray' 'Ceramic' 'Kyalami Orange' 'Charcoal Black'\n",
      " 'Adrenaline Red' 'Walnut' 'Brandy' 'Black / Saddle' 'Obsidian Black'\n",
      " 'Oyster W/Contrast' 'Macchiato' 'Red / Black' 'Whisper Beige' 'Graphite'\n",
      " 'Yellow' 'Medium Light Camel' 'Slate' 'Nero' 'Ebony Black' 'Espresso'\n",
      " 'Cappuccino' 'Ivory / Ebony' 'Boulder' 'Medium Ash Gray' 'Platinum'\n",
      " 'Light Platinum / Jet Black' 'Beluga Hide' 'Black / Graphite'\n",
      " 'Canberra Beige/Black' 'Rock Gray' 'Dark Auburn' 'Almond Beige'\n",
      " 'Sand Beige' 'Black / Brown' 'Ice' 'Silk Beige/Espresso Brown'\n",
      " 'Dark Galvanized' 'Cobalt Blue' 'Grace White' 'Titan Black'\n",
      " 'Cocoa / Dune' 'Light Gray' 'Camel Leather' 'Light Titanium'\n",
      " 'Pimento Red w/Ebony' 'Sport' 'Oyster/Black' 'Black/Red'\n",
      " 'Ebony / Ebony Accents' 'Cloud' 'Graystone' 'BLACK' 'Mountain Brown'\n",
      " 'Linen' 'Caramel' 'Black / Gray' 'Blk' 'Black w/Red Stitching' 'Mocha'\n",
      " 'Tupelo' 'Tan/Ebony' 'Parchment.' 'Black/Gun Metal' 'Very Light Cashmere'\n",
      " 'Medium Pewter' 'Red/Black']\n",
      "Category in accident is : ['None reported' 'At least 1 accident or damage reported']\n",
      "Category in clean_title is : ['Yes']\n"
     ]
    }
   ],
   "source": [
    "categorical_columns = df.select_dtypes(include=['object', 'category']).columns\n",
    "for col in categorical_columns:\n",
    "    print(f\"Category in {col} is : {df[col].unique()}\")"
   ],
   "metadata": {
    "collapsed": false,
    "ExecuteTime": {
     "end_time": "2024-06-18T02:04:13.362787Z",
     "start_time": "2024-06-18T02:04:13.314608Z"
    }
   },
   "id": "4ab8031485b3825c",
   "execution_count": 10
  },
  {
   "cell_type": "markdown",
   "source": [
    "Remove NaN fields"
   ],
   "metadata": {
    "collapsed": false
   },
   "id": "d1fe3c067c006c7d"
  },
  {
   "cell_type": "code",
   "outputs": [],
   "source": [
    "df.replace('–', pd.NA, inplace=True)\n",
    "df = df.dropna()"
   ],
   "metadata": {
    "collapsed": false,
    "ExecuteTime": {
     "end_time": "2024-06-18T02:04:13.363596Z",
     "start_time": "2024-06-18T02:04:13.315050Z"
    }
   },
   "id": "ef8bf2783987a52b",
   "execution_count": 11
  },
  {
   "cell_type": "markdown",
   "source": [
    "Extract engine spec"
   ],
   "metadata": {
    "collapsed": false
   },
   "id": "531ee0833e55d380"
  },
  {
   "cell_type": "code",
   "outputs": [],
   "source": [
    "from data.data_processing import *"
   ],
   "metadata": {
    "collapsed": false,
    "ExecuteTime": {
     "end_time": "2024-06-18T02:04:13.363900Z",
     "start_time": "2024-06-18T02:04:13.344655Z"
    }
   },
   "id": "de87c619dc156931",
   "execution_count": 12
  },
  {
   "cell_type": "code",
   "outputs": [
    {
     "data": {
      "text/plain": "          id     brand                     model  model_year  milage  \\\n20        20       GMC               Terrain SLE        2020   61830   \n26        26      Ford        Expedition Max XLT        2021    6449   \n37        37     Mazda     CX-30 Premium Package        2020   25779   \n80        80      Jeep  Wrangler Unlimited Sport        2017   65212   \n112      112      Ford    Expedition Max Limited        2021   22270   \n...      ...       ...                       ...         ...     ...   \n54210  54210       Kia        Sportage Nightfall        2022   26468   \n54231  54231      Ford        Expedition Max XLT        2021   10232   \n54245  54245  Chrysler         Crossfire Limited        2005    2353   \n54258  54258       RAM             1500 Longhorn        2019   76249   \n54271  54271   Porsche         911 Carrera 4 GTS        2023    1518   \n\n      fuel_type                       transmission                   ext_col  \\\n20     Gasoline                  9-Speed Automatic              Summit White   \n26     Gasoline                 10-Speed Automatic                     Black   \n37     Gasoline                  6-Speed Automatic  Platinum Quartz Metallic   \n80     Gasoline                  5-Speed Automatic                     Black   \n112    Gasoline                 10-Speed Automatic                     White   \n...         ...                                ...                       ...   \n54210  Gasoline                          Automatic                       Red   \n54231  Gasoline                 10-Speed Automatic                     Black   \n54245  Gasoline                  6-Speed Automatic                  Metallic   \n54258  Gasoline                  6-Speed Automatic             Diamond Black   \n54271  Gasoline  8-Speed Automatic with Auto-Shift                     Beige   \n\n              int_col                                accident clean_title  \\\n20          Jet Black                           None reported         Yes   \n26               Mesa                           None reported         Yes   \n37              Black  At least 1 accident or damage reported         Yes   \n80              Black                           None reported         Yes   \n112      Medium Stone                           None reported         Yes   \n...               ...                                     ...         ...   \n54210           Black                           None reported         Yes   \n54231       Sandstone                           None reported         Yes   \n54245           Black                           None reported         Yes   \n54258  Mountain Brown  At least 1 accident or damage reported         Yes   \n54271           Brown                           None reported         Yes   \n\n        price  horsepower  displacement  num_cylinders  v_configuration  \n20      26485         NaN           1.5            4.0            False  \n26      89995         NaN           3.5            6.0             True  \n37      24995         NaN           2.5            4.0            False  \n80      37995         NaN           3.6            6.0             True  \n112     59950         NaN           5.0            8.0             True  \n...       ...         ...           ...            ...              ...  \n54210   27875         NaN           2.4            4.0            False  \n54231   57850         NaN           3.5            6.0             True  \n54245   38322         NaN           3.2            6.0             True  \n54258   40995         NaN           5.7            8.0             True  \n54271  194965         NaN           4.0            NaN            False  \n\n[3608 rows x 16 columns]",
      "text/html": "<div>\n<style scoped>\n    .dataframe tbody tr th:only-of-type {\n        vertical-align: middle;\n    }\n\n    .dataframe tbody tr th {\n        vertical-align: top;\n    }\n\n    .dataframe thead th {\n        text-align: right;\n    }\n</style>\n<table border=\"1\" class=\"dataframe\">\n  <thead>\n    <tr style=\"text-align: right;\">\n      <th></th>\n      <th>id</th>\n      <th>brand</th>\n      <th>model</th>\n      <th>model_year</th>\n      <th>milage</th>\n      <th>fuel_type</th>\n      <th>transmission</th>\n      <th>ext_col</th>\n      <th>int_col</th>\n      <th>accident</th>\n      <th>clean_title</th>\n      <th>price</th>\n      <th>horsepower</th>\n      <th>displacement</th>\n      <th>num_cylinders</th>\n      <th>v_configuration</th>\n    </tr>\n  </thead>\n  <tbody>\n    <tr>\n      <th>20</th>\n      <td>20</td>\n      <td>GMC</td>\n      <td>Terrain SLE</td>\n      <td>2020</td>\n      <td>61830</td>\n      <td>Gasoline</td>\n      <td>9-Speed Automatic</td>\n      <td>Summit White</td>\n      <td>Jet Black</td>\n      <td>None reported</td>\n      <td>Yes</td>\n      <td>26485</td>\n      <td>NaN</td>\n      <td>1.5</td>\n      <td>4.0</td>\n      <td>False</td>\n    </tr>\n    <tr>\n      <th>26</th>\n      <td>26</td>\n      <td>Ford</td>\n      <td>Expedition Max XLT</td>\n      <td>2021</td>\n      <td>6449</td>\n      <td>Gasoline</td>\n      <td>10-Speed Automatic</td>\n      <td>Black</td>\n      <td>Mesa</td>\n      <td>None reported</td>\n      <td>Yes</td>\n      <td>89995</td>\n      <td>NaN</td>\n      <td>3.5</td>\n      <td>6.0</td>\n      <td>True</td>\n    </tr>\n    <tr>\n      <th>37</th>\n      <td>37</td>\n      <td>Mazda</td>\n      <td>CX-30 Premium Package</td>\n      <td>2020</td>\n      <td>25779</td>\n      <td>Gasoline</td>\n      <td>6-Speed Automatic</td>\n      <td>Platinum Quartz Metallic</td>\n      <td>Black</td>\n      <td>At least 1 accident or damage reported</td>\n      <td>Yes</td>\n      <td>24995</td>\n      <td>NaN</td>\n      <td>2.5</td>\n      <td>4.0</td>\n      <td>False</td>\n    </tr>\n    <tr>\n      <th>80</th>\n      <td>80</td>\n      <td>Jeep</td>\n      <td>Wrangler Unlimited Sport</td>\n      <td>2017</td>\n      <td>65212</td>\n      <td>Gasoline</td>\n      <td>5-Speed Automatic</td>\n      <td>Black</td>\n      <td>Black</td>\n      <td>None reported</td>\n      <td>Yes</td>\n      <td>37995</td>\n      <td>NaN</td>\n      <td>3.6</td>\n      <td>6.0</td>\n      <td>True</td>\n    </tr>\n    <tr>\n      <th>112</th>\n      <td>112</td>\n      <td>Ford</td>\n      <td>Expedition Max Limited</td>\n      <td>2021</td>\n      <td>22270</td>\n      <td>Gasoline</td>\n      <td>10-Speed Automatic</td>\n      <td>White</td>\n      <td>Medium Stone</td>\n      <td>None reported</td>\n      <td>Yes</td>\n      <td>59950</td>\n      <td>NaN</td>\n      <td>5.0</td>\n      <td>8.0</td>\n      <td>True</td>\n    </tr>\n    <tr>\n      <th>...</th>\n      <td>...</td>\n      <td>...</td>\n      <td>...</td>\n      <td>...</td>\n      <td>...</td>\n      <td>...</td>\n      <td>...</td>\n      <td>...</td>\n      <td>...</td>\n      <td>...</td>\n      <td>...</td>\n      <td>...</td>\n      <td>...</td>\n      <td>...</td>\n      <td>...</td>\n      <td>...</td>\n    </tr>\n    <tr>\n      <th>54210</th>\n      <td>54210</td>\n      <td>Kia</td>\n      <td>Sportage Nightfall</td>\n      <td>2022</td>\n      <td>26468</td>\n      <td>Gasoline</td>\n      <td>Automatic</td>\n      <td>Red</td>\n      <td>Black</td>\n      <td>None reported</td>\n      <td>Yes</td>\n      <td>27875</td>\n      <td>NaN</td>\n      <td>2.4</td>\n      <td>4.0</td>\n      <td>False</td>\n    </tr>\n    <tr>\n      <th>54231</th>\n      <td>54231</td>\n      <td>Ford</td>\n      <td>Expedition Max XLT</td>\n      <td>2021</td>\n      <td>10232</td>\n      <td>Gasoline</td>\n      <td>10-Speed Automatic</td>\n      <td>Black</td>\n      <td>Sandstone</td>\n      <td>None reported</td>\n      <td>Yes</td>\n      <td>57850</td>\n      <td>NaN</td>\n      <td>3.5</td>\n      <td>6.0</td>\n      <td>True</td>\n    </tr>\n    <tr>\n      <th>54245</th>\n      <td>54245</td>\n      <td>Chrysler</td>\n      <td>Crossfire Limited</td>\n      <td>2005</td>\n      <td>2353</td>\n      <td>Gasoline</td>\n      <td>6-Speed Automatic</td>\n      <td>Metallic</td>\n      <td>Black</td>\n      <td>None reported</td>\n      <td>Yes</td>\n      <td>38322</td>\n      <td>NaN</td>\n      <td>3.2</td>\n      <td>6.0</td>\n      <td>True</td>\n    </tr>\n    <tr>\n      <th>54258</th>\n      <td>54258</td>\n      <td>RAM</td>\n      <td>1500 Longhorn</td>\n      <td>2019</td>\n      <td>76249</td>\n      <td>Gasoline</td>\n      <td>6-Speed Automatic</td>\n      <td>Diamond Black</td>\n      <td>Mountain Brown</td>\n      <td>At least 1 accident or damage reported</td>\n      <td>Yes</td>\n      <td>40995</td>\n      <td>NaN</td>\n      <td>5.7</td>\n      <td>8.0</td>\n      <td>True</td>\n    </tr>\n    <tr>\n      <th>54271</th>\n      <td>54271</td>\n      <td>Porsche</td>\n      <td>911 Carrera 4 GTS</td>\n      <td>2023</td>\n      <td>1518</td>\n      <td>Gasoline</td>\n      <td>8-Speed Automatic with Auto-Shift</td>\n      <td>Beige</td>\n      <td>Brown</td>\n      <td>None reported</td>\n      <td>Yes</td>\n      <td>194965</td>\n      <td>NaN</td>\n      <td>4.0</td>\n      <td>NaN</td>\n      <td>False</td>\n    </tr>\n  </tbody>\n</table>\n<p>3608 rows × 16 columns</p>\n</div>"
     },
     "execution_count": 13,
     "metadata": {},
     "output_type": "execute_result"
    }
   ],
   "source": [
    "df[['horsepower', 'displacement', 'num_cylinders', 'v_configuration']] = df['engine'].apply(lambda x: pd.Series(extract_engine_specs(x)))\n",
    "df = df.drop(columns=['engine'])\n",
    "nan_rows = df[df[['horsepower', 'displacement', 'num_cylinders']].isna().any(axis=1)]\n",
    "nan_rows"
   ],
   "metadata": {
    "collapsed": false,
    "ExecuteTime": {
     "end_time": "2024-06-18T02:04:15.178403Z",
     "start_time": "2024-06-18T02:04:13.396697Z"
    }
   },
   "id": "1a62300607ecb74b",
   "execution_count": 13
  },
  {
   "cell_type": "markdown",
   "source": [
    "Consolidate color"
   ],
   "metadata": {
    "collapsed": false
   },
   "id": "5cb3744ac6fbcf77"
  },
  {
   "cell_type": "code",
   "outputs": [
    {
     "data": {
      "text/plain": "array(['Blue', 'Black', 'Purple', 'Gray', 'White', 'Red', 'Silver',\n       'Summit White', 'Platinum Quartz Metallic', 'Green', 'Orange',\n       'Lunar Rock', 'Red Quartz Tintcoat', 'Beige', 'Gold',\n       'Jet Black Mica', 'Delmonico Red Pearlcoat', 'Brown',\n       'Rich Garnet Metallic', 'Stellar Black Metallic', 'Yellow',\n       'Deep Black Pearl Effect', 'Metallic', 'Ice Silver Metallic',\n       'Agate Black Metallic', 'Rosso Mars Metallic', 'White Clearcoat',\n       'Santorini Black Metallic', 'DB Black Clearcoat',\n       'Snowflake White Pearl', 'Glacial White Pearl',\n       'Maximum Steel Metallic', 'Blue Caelum', 'Dark Matter Metallic',\n       'Oxford White', 'Cobra Beige Metallic', 'Velvet Red Pearlcoat',\n       'Python Green', 'Obsidian Black Metallic', 'Beluga Black',\n       'Blue Reflex Mica', 'Sparkling Silver', 'Black Clearcoat',\n       'Soul Red Crystal Metallic', 'Bright White Clearcoat',\n       'Shimmering Silver', 'Midnight Black Metallic',\n       'Cajun Red Tintcoat', 'Cirrus Silver Metallic', 'Blu',\n       'Burnished Bronze Metallic', 'Hellayella Clearcoat',\n       'Diamond Black', 'White Diamond Tri-Coat', 'Nebula Gray Pearl',\n       'Bronze Dune Metallic', 'Polymetal Gray Metallic',\n       'Nightfall Gray Metallic', 'Fuji White', 'Shadow Gray Metallic',\n       'Dark Moon Blue Metallic', 'Dark Sapphire',\n       'Firecracker Red Clearcoat', 'Black Raven',\n       'White Knuckle Clearcoat', 'Siren Red Tintcoat',\n       'Designo Magno Matte', 'Atomic Silver',\n       'Billet Silver Metallic Clearcoat', 'Ember Pearlcoat',\n       'Magnetic Black', 'Pacific Blue Metallic',\n       'Midnight Blue Metallic', 'Alta White', 'Eiger Grey',\n       'Diamond White', 'Onyx', 'Hyper Red', 'Ebony Twilight Metallic',\n       'Alpine White', 'Sonic Silver Metallic', 'Dark Ash Metallic',\n       'Volcano Grey Metallic', 'Patriot Blue Pearlcoat', 'Onyx Black',\n       'Titanium Silver', 'Granite Crystal Clearcoat Metallic',\n       'Nero Noctis', 'Silver Zynith', 'Black Cherry',\n       'Iconic Silver Metallic', 'Nero Daytona',\n       'Daytona Gray Pearl Effect', 'Dark Moss', 'Deep Crystal Blue Mica',\n       'China Blue', 'Magnetic Metallic', 'Midnight Black', 'Vega Blue',\n       'Sandstone Metallic', 'Machine Gray Metallic', 'C / C',\n       'Platinum Gray Metallic', 'Silver Ice Metallic',\n       'Carrara White Metallic', 'Black Sapphire Metallic', 'Go Mango!',\n       'White Frost Tri-Coat', 'Lizard Green', 'Santorin Black',\n       'Twilight Black', 'Gecko Pearlcoat', 'Satin Steel Metallic',\n       'Imperial Blue Metallic', 'Nautical Blue Pearl',\n       'Stone Gray Metallic', 'Quartzite Grey Metallic',\n       'Majestic Black Pearl', 'Shadow Black', 'Crimson Red Tintcoat',\n       'Silver Flare Metallic', 'Vik Black', 'Lunar Silver Metallic',\n       'Maroon', 'Redline Red', 'Iridescent Pearl Tricoat',\n       'Brilliant Silver Metallic', 'Lunar Blue Metallic', 'Matte White',\n       'Tan', 'Stormy Sea', 'Twilight Blue Metallic', 'Ibis White',\n       'Kodiak Brown Metallic', 'Crystal Black Silica',\n       'Sting Gray Clearcoat', 'Pristine White', 'Pearl White',\n       'Antimatter Blue Metallic', 'Tango Red Metallic',\n       'Crystal Black Pearl', 'Rift Metallic', 'Glacier White Metallic',\n       'Quartz White', 'Black Obsidian', 'Brilliant Black',\n       'Ruby Red Metallic Tinted Clearcoat', 'Tungsten Metallic',\n       'Magnetite Black Metallic', 'Jupiter Red', 'Glacier',\n       'Santorini Black', 'Navarre Blue',\n       'Phantom Black Pearl Effect / Black Roof',\n       'Isle of Man Green Metallic', 'Snowflake White Pearl Metallic',\n       'Brands Hatch Gray Metallic', 'Volcanic Orange', 'Liquid Platinum',\n       'Bayside Blue', 'Rapid Red Metallic Tinted Clearcoat',\n       'Majestic Plum Metallic', 'White Platinum Tri-Coat Metallic',\n       'Mosaic Black Metallic', 'Chalk', 'Black Noir Pearl',\n       'Nightfall Mica', 'Blueprint', 'Quicksilver Metallic',\n       'Frozen White', 'Lunare White Metallic', 'Verde',\n       'Dark Graphite Metallic', 'Mythos Black', 'Ebony Black',\n       'Ultra Black', 'Ingot Silver Metallic', 'Glacier Silver Metallic',\n       'Gun Metallic', 'Wind Chill Pearl', 'Anodized Blue Metallic',\n       'designo Diamond White', 'Tempest', 'Caviar',\n       'Phytonic Blue Metallic', 'Moonlight Cloud',\n       'Daytona Gray Pearl Effect w/ Black Roof', 'Bianco Isis',\n       'Carbonized Gray Metallic', 'Deep Blue Metallic',\n       'Ametrin Metallic', 'Super Black', 'Rosso Corsa', 'Blue Metallic',\n       'Iridium Metallic', 'Dark Slate Metallic',\n       'Manhattan Noir Metallic', 'Alfa White', 'Baltic Gray',\n       'Northsky Blue Metallic', 'Super White', 'Carbon Black Metallic',\n       'Horizon Blue', 'Jungle Green', 'Cayenne Red Tintcoat', 'Pink',\n       'Daytona Gray', 'Gentian Blue Metallic', 'Sangria Red',\n       'Kemora Gray Metallic', 'Dark Gray Metallic',\n       'Magnetite Gray Metallic', 'Octane Red Pearlcoat', 'Custom Color',\n       'Ultra White', 'Pacific Blue', 'Ruby Flare Pearl', 'Caspian Blue',\n       'Silver Radiance', 'Carpathian Grey Premium Metallic', 'Ice',\n       'Balloon White', 'Shoreline Blue Pearl', 'Firenze Red Metallic',\n       'Remington Red Metallic', 'Orca Black Metallic',\n       'Radiant Red Metallic II', 'Mineral White', 'Glacier White',\n       'Snow White Pearl', 'Iridium Silver Metallic', 'Carpathian Grey',\n       'Mountain Air Metallic', 'Selenite Gray Metallic',\n       'Graphite Grey Metallic', 'Selenite Grey Metallic', 'Kinetic Blue',\n       'Wolf Gray', 'Star White', 'Emin White', 'Indus Silver',\n       'Matador Red Metallic', 'Portofino Gray', 'Black Forest Green',\n       'Mythos Black Metallic', 'Dazzling White', 'Flame Red Clearcoat',\n       'Glacier Blue Metallic', 'Arctic White', 'Rosso', 'Silver Mist',\n       'Bianco Icarus Metallic', 'Firenze Red', 'Ironman Silver',\n       'Red Obsession', 'Magnetic Gray Metallic', 'Garnet Red Metallic',\n       'Vulcano Black Metallic', 'Magnetic Gray Clearcoat'], dtype=object)"
     },
     "execution_count": 14,
     "metadata": {},
     "output_type": "execute_result"
    }
   ],
   "source": [
    "df['ext_metallic'] = df['ext_col'].apply(lambda x: 'metallic' if 'metallic' in x.lower() else 'non-metallic')\n",
    "df['ext_col'].unique()"
   ],
   "metadata": {
    "collapsed": false,
    "ExecuteTime": {
     "end_time": "2024-06-18T02:04:15.194511Z",
     "start_time": "2024-06-18T02:04:15.184320Z"
    }
   },
   "id": "f9747153bcb110a7",
   "execution_count": 14
  },
  {
   "cell_type": "code",
   "outputs": [
    {
     "data": {
      "text/plain": "          id    brand                             model  model_year  milage  \\\n0          0     Ford                      F-150 Lariat        2018   74349   \n1          1      BMW                             335 i        2007   80000   \n2          2   Jaguar                         XF Luxury        2009   91491   \n3          3      BMW                      X7 xDrive40i        2022    2437   \n4          4  Pontiac                     Firebird Base        2001  111000   \n...      ...      ...                               ...         ...     ...   \n54268  54268      BMW                      X6 xDrive50i        2017   29000   \n54269  54269     Audi                   A4 2.0T Premium        2015   94634   \n54270  54270  Porsche                         Cayenne S        2013   40989   \n54271  54271  Porsche                 911 Carrera 4 GTS        2023    1518   \n54272  54272     Audi  A5 Sportback S line Premium Plus        2021   35000   \n\n           fuel_type                       transmission ext_col int_col  \\\n0           Gasoline                       10-Speed A/T    blue    gray   \n1           Gasoline                        6-Speed M/T   black   black   \n2           Gasoline                        6-Speed A/T  purple   beige   \n3             Hybrid     Transmission w/Dual Shift Mode    gray   brown   \n4           Gasoline                                A/T   white   black   \n...              ...                                ...     ...     ...   \n54268       Gasoline                        8-Speed A/T   white   brown   \n54269  E85 Flex Fuel                        6-Speed A/T   black   black   \n54270       Gasoline     Transmission w/Dual Shift Mode   white   black   \n54271       Gasoline  8-Speed Automatic with Auto-Shift   beige   brown   \n54272         Hybrid                        8-Speed A/T   black   black   \n\n                                     accident clean_title   price  horsepower  \\\n0                               None reported         Yes   11000       375.0   \n1                               None reported         Yes    8250       300.0   \n2                               None reported         Yes   15000       300.0   \n3                               None reported         Yes   63500       335.0   \n4                               None reported         Yes    7850       200.0   \n...                                       ...         ...     ...         ...   \n54268                           None reported         Yes   29000       445.0   \n54269  At least 1 accident or damage reported         Yes    6500       220.0   \n54270  At least 1 accident or damage reported         Yes   18950       420.0   \n54271                           None reported         Yes  194965         NaN   \n54272                           None reported         Yes   37499       261.0   \n\n       displacement  num_cylinders  v_configuration  ext_metallic  \n0               3.5            6.0             True  non-metallic  \n1               3.0            6.0            False  non-metallic  \n2               4.2            8.0            False  non-metallic  \n3               3.0            6.0            False  non-metallic  \n4               3.8            6.0             True  non-metallic  \n...             ...            ...              ...           ...  \n54268           4.4            8.0            False  non-metallic  \n54269           2.0            4.0            False  non-metallic  \n54270           3.6            6.0             True  non-metallic  \n54271           4.0            NaN            False  non-metallic  \n54272           2.0            4.0            False  non-metallic  \n\n[52893 rows x 17 columns]",
      "text/html": "<div>\n<style scoped>\n    .dataframe tbody tr th:only-of-type {\n        vertical-align: middle;\n    }\n\n    .dataframe tbody tr th {\n        vertical-align: top;\n    }\n\n    .dataframe thead th {\n        text-align: right;\n    }\n</style>\n<table border=\"1\" class=\"dataframe\">\n  <thead>\n    <tr style=\"text-align: right;\">\n      <th></th>\n      <th>id</th>\n      <th>brand</th>\n      <th>model</th>\n      <th>model_year</th>\n      <th>milage</th>\n      <th>fuel_type</th>\n      <th>transmission</th>\n      <th>ext_col</th>\n      <th>int_col</th>\n      <th>accident</th>\n      <th>clean_title</th>\n      <th>price</th>\n      <th>horsepower</th>\n      <th>displacement</th>\n      <th>num_cylinders</th>\n      <th>v_configuration</th>\n      <th>ext_metallic</th>\n    </tr>\n  </thead>\n  <tbody>\n    <tr>\n      <th>0</th>\n      <td>0</td>\n      <td>Ford</td>\n      <td>F-150 Lariat</td>\n      <td>2018</td>\n      <td>74349</td>\n      <td>Gasoline</td>\n      <td>10-Speed A/T</td>\n      <td>blue</td>\n      <td>gray</td>\n      <td>None reported</td>\n      <td>Yes</td>\n      <td>11000</td>\n      <td>375.0</td>\n      <td>3.5</td>\n      <td>6.0</td>\n      <td>True</td>\n      <td>non-metallic</td>\n    </tr>\n    <tr>\n      <th>1</th>\n      <td>1</td>\n      <td>BMW</td>\n      <td>335 i</td>\n      <td>2007</td>\n      <td>80000</td>\n      <td>Gasoline</td>\n      <td>6-Speed M/T</td>\n      <td>black</td>\n      <td>black</td>\n      <td>None reported</td>\n      <td>Yes</td>\n      <td>8250</td>\n      <td>300.0</td>\n      <td>3.0</td>\n      <td>6.0</td>\n      <td>False</td>\n      <td>non-metallic</td>\n    </tr>\n    <tr>\n      <th>2</th>\n      <td>2</td>\n      <td>Jaguar</td>\n      <td>XF Luxury</td>\n      <td>2009</td>\n      <td>91491</td>\n      <td>Gasoline</td>\n      <td>6-Speed A/T</td>\n      <td>purple</td>\n      <td>beige</td>\n      <td>None reported</td>\n      <td>Yes</td>\n      <td>15000</td>\n      <td>300.0</td>\n      <td>4.2</td>\n      <td>8.0</td>\n      <td>False</td>\n      <td>non-metallic</td>\n    </tr>\n    <tr>\n      <th>3</th>\n      <td>3</td>\n      <td>BMW</td>\n      <td>X7 xDrive40i</td>\n      <td>2022</td>\n      <td>2437</td>\n      <td>Hybrid</td>\n      <td>Transmission w/Dual Shift Mode</td>\n      <td>gray</td>\n      <td>brown</td>\n      <td>None reported</td>\n      <td>Yes</td>\n      <td>63500</td>\n      <td>335.0</td>\n      <td>3.0</td>\n      <td>6.0</td>\n      <td>False</td>\n      <td>non-metallic</td>\n    </tr>\n    <tr>\n      <th>4</th>\n      <td>4</td>\n      <td>Pontiac</td>\n      <td>Firebird Base</td>\n      <td>2001</td>\n      <td>111000</td>\n      <td>Gasoline</td>\n      <td>A/T</td>\n      <td>white</td>\n      <td>black</td>\n      <td>None reported</td>\n      <td>Yes</td>\n      <td>7850</td>\n      <td>200.0</td>\n      <td>3.8</td>\n      <td>6.0</td>\n      <td>True</td>\n      <td>non-metallic</td>\n    </tr>\n    <tr>\n      <th>...</th>\n      <td>...</td>\n      <td>...</td>\n      <td>...</td>\n      <td>...</td>\n      <td>...</td>\n      <td>...</td>\n      <td>...</td>\n      <td>...</td>\n      <td>...</td>\n      <td>...</td>\n      <td>...</td>\n      <td>...</td>\n      <td>...</td>\n      <td>...</td>\n      <td>...</td>\n      <td>...</td>\n      <td>...</td>\n    </tr>\n    <tr>\n      <th>54268</th>\n      <td>54268</td>\n      <td>BMW</td>\n      <td>X6 xDrive50i</td>\n      <td>2017</td>\n      <td>29000</td>\n      <td>Gasoline</td>\n      <td>8-Speed A/T</td>\n      <td>white</td>\n      <td>brown</td>\n      <td>None reported</td>\n      <td>Yes</td>\n      <td>29000</td>\n      <td>445.0</td>\n      <td>4.4</td>\n      <td>8.0</td>\n      <td>False</td>\n      <td>non-metallic</td>\n    </tr>\n    <tr>\n      <th>54269</th>\n      <td>54269</td>\n      <td>Audi</td>\n      <td>A4 2.0T Premium</td>\n      <td>2015</td>\n      <td>94634</td>\n      <td>E85 Flex Fuel</td>\n      <td>6-Speed A/T</td>\n      <td>black</td>\n      <td>black</td>\n      <td>At least 1 accident or damage reported</td>\n      <td>Yes</td>\n      <td>6500</td>\n      <td>220.0</td>\n      <td>2.0</td>\n      <td>4.0</td>\n      <td>False</td>\n      <td>non-metallic</td>\n    </tr>\n    <tr>\n      <th>54270</th>\n      <td>54270</td>\n      <td>Porsche</td>\n      <td>Cayenne S</td>\n      <td>2013</td>\n      <td>40989</td>\n      <td>Gasoline</td>\n      <td>Transmission w/Dual Shift Mode</td>\n      <td>white</td>\n      <td>black</td>\n      <td>At least 1 accident or damage reported</td>\n      <td>Yes</td>\n      <td>18950</td>\n      <td>420.0</td>\n      <td>3.6</td>\n      <td>6.0</td>\n      <td>True</td>\n      <td>non-metallic</td>\n    </tr>\n    <tr>\n      <th>54271</th>\n      <td>54271</td>\n      <td>Porsche</td>\n      <td>911 Carrera 4 GTS</td>\n      <td>2023</td>\n      <td>1518</td>\n      <td>Gasoline</td>\n      <td>8-Speed Automatic with Auto-Shift</td>\n      <td>beige</td>\n      <td>brown</td>\n      <td>None reported</td>\n      <td>Yes</td>\n      <td>194965</td>\n      <td>NaN</td>\n      <td>4.0</td>\n      <td>NaN</td>\n      <td>False</td>\n      <td>non-metallic</td>\n    </tr>\n    <tr>\n      <th>54272</th>\n      <td>54272</td>\n      <td>Audi</td>\n      <td>A5 Sportback S line Premium Plus</td>\n      <td>2021</td>\n      <td>35000</td>\n      <td>Hybrid</td>\n      <td>8-Speed A/T</td>\n      <td>black</td>\n      <td>black</td>\n      <td>None reported</td>\n      <td>Yes</td>\n      <td>37499</td>\n      <td>261.0</td>\n      <td>2.0</td>\n      <td>4.0</td>\n      <td>False</td>\n      <td>non-metallic</td>\n    </tr>\n  </tbody>\n</table>\n<p>52893 rows × 17 columns</p>\n</div>"
     },
     "execution_count": 15,
     "metadata": {},
     "output_type": "execute_result"
    }
   ],
   "source": [
    "df['ext_col'] = df['ext_col'].apply(consolidate_color)\n",
    "df['int_col'] = df['int_col'].apply(consolidate_color) \n",
    "df"
   ],
   "metadata": {
    "collapsed": false,
    "ExecuteTime": {
     "end_time": "2024-06-18T02:04:15.277625Z",
     "start_time": "2024-06-18T02:04:15.192840Z"
    }
   },
   "id": "dbcf0bbea90bb43b",
   "execution_count": 15
  },
  {
   "cell_type": "code",
   "outputs": [
    {
     "data": {
      "text/plain": "ext_col\nblack            15398\nwhite            13432\ngray              7874\nsilver            5231\nblue              4735\n                 ...  \ncustom color         1\nlunar rock           1\nmountain air         1\nrosso                1\nbianco icarus        1\nName: count, Length: 64, dtype: int64"
     },
     "execution_count": 16,
     "metadata": {},
     "output_type": "execute_result"
    }
   ],
   "source": [
    "df['ext_col'].value_counts()"
   ],
   "metadata": {
    "collapsed": false,
    "ExecuteTime": {
     "end_time": "2024-06-18T02:04:15.278113Z",
     "start_time": "2024-06-18T02:04:15.274613Z"
    }
   },
   "id": "caae7165d9d3ebd3",
   "execution_count": 16
  },
  {
   "cell_type": "code",
   "outputs": [
    {
     "data": {
      "text/plain": "ext_metallic\nnon-metallic    51993\nmetallic          900\nName: count, dtype: int64"
     },
     "execution_count": 17,
     "metadata": {},
     "output_type": "execute_result"
    }
   ],
   "source": [
    "df['ext_metallic'].value_counts()"
   ],
   "metadata": {
    "collapsed": false,
    "ExecuteTime": {
     "end_time": "2024-06-18T02:04:15.280958Z",
     "start_time": "2024-06-18T02:04:15.278108Z"
    }
   },
   "id": "72855cda74c5106e",
   "execution_count": 17
  },
  {
   "cell_type": "markdown",
   "source": [],
   "metadata": {
    "collapsed": false
   },
   "id": "cbaebef41d925e4c"
  },
  {
   "cell_type": "markdown",
   "source": [
    "Correlation between price and other numerical cells"
   ],
   "metadata": {
    "collapsed": false
   },
   "id": "650df1ef84674a4d"
  },
  {
   "cell_type": "code",
   "outputs": [
    {
     "data": {
      "text/plain": "id              -0.000403\nmodel_year       0.216960\nmilage          -0.246133\nprice            1.000000\nhorsepower       0.259170\ndisplacement     0.099980\nnum_cylinders    0.123617\nName: price, dtype: float64"
     },
     "execution_count": 21,
     "metadata": {},
     "output_type": "execute_result"
    }
   ],
   "source": [
    "df_numeric = df.select_dtypes(include=['number'])\n",
    "correlation_matrix = df_numeric.corr()\n",
    "\n",
    "# Extract the correlation values of 'price' with other variables\n",
    "price_correlation = correlation_matrix['price']\n",
    "price_correlation"
   ],
   "metadata": {
    "collapsed": false,
    "ExecuteTime": {
     "end_time": "2024-06-18T02:09:23.910071Z",
     "start_time": "2024-06-18T02:09:23.896268Z"
    }
   },
   "id": "f10793e252827e33",
   "execution_count": 21
  },
  {
   "cell_type": "code",
   "outputs": [
    {
     "data": {
      "text/plain": "price          1.000000\nrosso corsa    0.073085\nc / c          0.044472\ngray           0.035890\nbianco isis    0.027087\n                 ...   \nwhite         -0.008464\nbrown         -0.013312\nbeige         -0.021154\ngold          -0.024909\nsilver        -0.034527\nName: price, Length: 65, dtype: float64"
     },
     "execution_count": 26,
     "metadata": {},
     "output_type": "execute_result"
    }
   ],
   "source": [
    "df_color = df['ext_col']\n",
    "df_color_encoded = pd.get_dummies(df_color, columns=['ext_col'])\n",
    "df_result = pd.concat([df_color_encoded, df['price']], axis=1)\n",
    "correlation_matrix = df_result.corr()\n",
    "correlation_matrix['price'].sort_values(ascending=False)"
   ],
   "metadata": {
    "collapsed": false,
    "ExecuteTime": {
     "end_time": "2024-06-18T02:12:38.402915Z",
     "start_time": "2024-06-18T02:12:38.115413Z"
    }
   },
   "id": "421a0ebba6aca762",
   "execution_count": 26
  },
  {
   "cell_type": "code",
   "outputs": [
    {
     "name": "stdout",
     "output_type": "stream",
     "text": [
      "                       mean     median  count      min      max\n",
      "brand                                                          \n",
      "Bugatti        1.950995e+06  1950995.0      1  1950995  1950995\n",
      "Ferrari        1.579934e+05   104000.0     78    10500   599000\n",
      "Lamborghini    1.385819e+05    84844.0    114     3000  1950995\n",
      "Aston          1.178858e+05    71497.5     50     5500   489995\n",
      "Rolls-Royce    1.101787e+05    69500.0    119    17816   749950\n",
      "McLaren        1.098623e+05    71000.0     42    25950   349950\n",
      "Bentley        1.056105e+05    72997.0    276     2899   749950\n",
      "Lucid          8.418500e+04    84185.0      2    68420    99950\n",
      "Rivian         7.949581e+04    93500.0     27    17900   159000\n",
      "Porsche        6.391850e+04    42250.0   2571     2000  2954083\n",
      "Maserati       5.695651e+04    36999.5    292     4700   489995\n",
      "Maybach        5.250000e+04    52500.0      1    52500    52500\n",
      "Genesis        5.179603e+04    40249.5    242     5230   749950\n",
      "Tesla          4.924984e+04    43900.0    109     8800   267950\n",
      "Land           4.777210e+04    36000.0   1978     2500   649999\n",
      "Mercedes-Benz  4.723581e+04    33500.0   5005     2300  2954083\n",
      "Alfa           4.551149e+04    36000.0    137     6399   399950\n",
      "RAM            4.550135e+04    39763.5    940     2500  2954083\n",
      "Chevrolet      4.506693e+04    32485.5   4348     2000  2954083\n",
      "GMC            4.178217e+04    30000.0   1066     2899  2954083\n",
      "BMW            4.021649e+04    30000.0   7307     2300   749950\n",
      "Lotus          3.845658e+04    36250.0     12    12499    69250\n",
      "Ford           3.810014e+04    31000.0   6475     2000   749950\n",
      "Audi           3.722100e+04    27000.0   2885     2000  2954083\n",
      "Cadillac       3.673392e+04    26550.0   1540     2800   695000\n",
      "Jaguar         3.556649e+04    26950.0    638     2000   695000\n",
      "Jeep           3.104082e+04    25000.0   2174     2000  1950995\n",
      "Hummer         3.090406e+04    12250.0    173     2300  2954083\n",
      "Lexus          3.069078e+04    23999.0   2233     2300   649999\n",
      "INFINITI       2.972925e+04    22000.0    934     3499   491836\n",
      "Kia            2.969787e+04    24000.0    498     2990   239995\n",
      "Dodge          2.933795e+04    15900.0    926     2500   695000\n",
      "Toyota         2.920580e+04    19900.0   2235     2300  2954083\n",
      "Acura          2.880914e+04    16500.0    550     2500  2954083\n",
      "Volvo          2.807467e+04    23999.0    443     3499   226000\n",
      "Lincoln        2.775311e+04    19500.0    750     2300   491836\n",
      "Buick          2.774938e+04    23052.5    226     2800   274900\n",
      "Mazda          2.493803e+04    20947.5    690     2000   399950\n",
      "Nissan         2.394572e+04    15000.0   1175     2500   488880\n",
      "Volkswagen     2.280689e+04    18400.0    610     2900   399950\n",
      "Subaru         2.241368e+04    18000.0    721     2300   489995\n",
      "Honda          1.895259e+04    15500.0    586     2000   324995\n",
      "Hyundai        1.890498e+04    15900.0    685     2000   144940\n",
      "Pontiac        1.745191e+04    13650.0    148     2300   209995\n",
      "Chrysler       1.682214e+04    12500.0    229     2500   157500\n",
      "MINI           1.610292e+04    11994.5    354     3200   243900\n",
      "Mercury        1.538700e+04    15000.0     12     5750    30000\n",
      "Saturn         1.448662e+04    10000.0     45     2300    42000\n",
      "FIAT           1.420280e+04    13500.0     15     8500    20000\n",
      "Mitsubishi     1.396535e+04     9950.0    168     2300    98900\n",
      "Scion          1.293953e+04     9495.0     53     4300   119900\n",
      "Suzuki         1.109975e+04    10000.0      4     6499    17900\n",
      "Plymouth       3.850000e+03     3850.0      1     3850     3850\n"
     ]
    }
   ],
   "source": [
    "grouped = df.groupby('brand')['price'].agg(['mean', 'median', 'count', 'min', 'max'])\n",
    "print(grouped.sort_values(by='mean', ascending=False))"
   ],
   "metadata": {
    "collapsed": false,
    "ExecuteTime": {
     "end_time": "2024-06-18T02:14:55.758232Z",
     "start_time": "2024-06-18T02:14:55.742231Z"
    }
   },
   "id": "b2959faa668eb7e9",
   "execution_count": 27
  },
  {
   "cell_type": "code",
   "outputs": [
    {
     "name": "stdout",
     "output_type": "stream",
     "text": [
      "ANOVA result: F-statistic = 51.16009731980623, p-value = 0.0\n"
     ]
    }
   ],
   "source": [
    "import scipy.stats as stats\n",
    "\n",
    "# Perform ANOVA\n",
    "anova_result = stats.f_oneway(*[group['price'].values for name, group in df.groupby('brand')])\n",
    "print(f'ANOVA result: F-statistic = {anova_result.statistic}, p-value = {anova_result.pvalue}')"
   ],
   "metadata": {
    "collapsed": false,
    "ExecuteTime": {
     "end_time": "2024-06-18T02:15:29.453953Z",
     "start_time": "2024-06-18T02:15:28.571271Z"
    }
   },
   "id": "fc479a702e26554b",
   "execution_count": 28
  },
  {
   "cell_type": "code",
   "outputs": [
    {
     "data": {
      "text/plain": "<Figure size 640x480 with 1 Axes>",
      "image/png": "[encoded data removed]"
     },
     "metadata": {},
     "output_type": "display_data"
    }
   ],
   "source": [
    "import seaborn as sns\n",
    "import matplotlib.pyplot as plt\n",
    "\n",
    "# Boxplot to visualize the distribution of prices by brand\n",
    "sns.boxplot(x='brand', y='price', data=df)\n",
    "plt.xticks(rotation=45)  # Rotate labels if there are many brands\n",
    "plt.show()"
   ],
   "metadata": {
    "collapsed": false,
    "ExecuteTime": {
     "end_time": "2024-06-18T02:15:38.526278Z",
     "start_time": "2024-06-18T02:15:38.009929Z"
    }
   },
   "id": "f57338d3b3c7640f",
   "execution_count": 29
  },
  {
   "cell_type": "code",
   "outputs": [
    {
     "name": "stdout",
     "output_type": "stream",
     "text": [
      "Correlation coefficient: 0.21893721504614044\n"
     ]
    }
   ],
   "source": [
    "# Encoding brands based on the mean price\n",
    "mean_prices = df.groupby('brand')['price'].mean()\n",
    "df['brand_encoded'] = df['brand'].map(mean_prices)\n",
    "\n",
    "# Compute correlation between encoded brand and price\n",
    "correlation = df['brand_encoded'].corr(df['price'])\n",
    "print(f'Correlation coefficient: {correlation}')"
   ],
   "metadata": {
    "collapsed": false,
    "ExecuteTime": {
     "end_time": "2024-06-18T02:15:56.999042Z",
     "start_time": "2024-06-18T02:15:56.984075Z"
    }
   },
   "id": "30b04866c5bd7474",
   "execution_count": 30
  },
  {
   "cell_type": "code",
   "outputs": [
    {
     "data": {
      "text/plain": "                           price  accident_None reported\nprice                   1.000000                0.113098\naccident_None reported  0.113098                1.000000",
      "text/html": "<div>\n<style scoped>\n    .dataframe tbody tr th:only-of-type {\n        vertical-align: middle;\n    }\n\n    .dataframe tbody tr th {\n        vertical-align: top;\n    }\n\n    .dataframe thead th {\n        text-align: right;\n    }\n</style>\n<table border=\"1\" class=\"dataframe\">\n  <thead>\n    <tr style=\"text-align: right;\">\n      <th></th>\n      <th>price</th>\n      <th>accident_None reported</th>\n    </tr>\n  </thead>\n  <tbody>\n    <tr>\n      <th>price</th>\n      <td>1.000000</td>\n      <td>0.113098</td>\n    </tr>\n    <tr>\n      <th>accident_None reported</th>\n      <td>0.113098</td>\n      <td>1.000000</td>\n    </tr>\n  </tbody>\n</table>\n</div>"
     },
     "execution_count": 36,
     "metadata": {},
     "output_type": "execute_result"
    }
   ],
   "source": [
    "df_result = pd.concat([df['accident'], df['price']], axis=1)\n",
    "df_result = pd.get_dummies(df_result, columns=['accident'], drop_first=True)\n",
    "correlation_matrix = df_result.corr()\n",
    "correlation_matrix['price']"
   ],
   "metadata": {
    "collapsed": false,
    "ExecuteTime": {
     "end_time": "2024-06-18T02:24:54.818492Z",
     "start_time": "2024-06-18T02:24:54.799527Z"
    }
   },
   "id": "e6ef893137ca1990",
   "execution_count": 36
  },
  {
   "cell_type": "code",
   "outputs": [],
   "source": [],
   "metadata": {
    "collapsed": false
   },
   "id": "b352340e8121297b"
  }
 ],
 "metadata": {
  "kernelspec": {
   "display_name": "Python 3",
   "language": "python",
   "name": "python3"
  },
  "language_info": {
   "codemirror_mode": {
    "name": "ipython",
    "version": 2
   },
   "file_extension": ".py",
   "mimetype": "text/x-python",
   "name": "python",
   "nbconvert_exporter": "python",
   "pygments_lexer": "ipython2",
   "version": "2.7.6"
  }
 },
 "nbformat": 4,
 "nbformat_minor": 5
}
